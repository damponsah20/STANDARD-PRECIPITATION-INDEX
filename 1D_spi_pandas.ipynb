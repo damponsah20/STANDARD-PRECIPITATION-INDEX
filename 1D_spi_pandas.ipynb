{
 "cells": [
  {
   "cell_type": "markdown",
   "metadata": {},
   "source": [
    "Standardized Precipitation Index (SPI)\n",
    "---\n",
    "- used to characterize meteorological drought on a range of timescales. On short timescales, the SPI is closely related to soil moisture, while at longer timescales, the SPI can be related to groundwater and reservoir storage. The SPI can be compared across regions with markedly different climates. It quantifies observed precipitation as a standardized departure from a selected probability distribution function that models the raw precipitation data. The raw precipitation data are typically fitted to a gamma or a Pearson Type III distribution, and then transformed to a normal distribution.\n",
    "\n",
    "- Concerns have been raised about the utility of the SPI as a measure of changes in drought associated with climate change, as it does not deal with changes in evapotranspiration.\n",
    "\n",
    "\n",
    "useful link: https://climatedataguide.ucar.edu/climate-data/standardized-precipitation-index-spi"
   ]
  },
  {
   "cell_type": "markdown",
   "metadata": {},
   "source": [
    "Import Packages\n",
    "---\n",
    "Github:  https://github.com/jeffjay88/Climate_Indices"
   ]
  },
  {
   "cell_type": "code",
   "execution_count": 3,
   "metadata": {},
   "outputs": [],
   "source": [
    "import pandas as pd\n",
    "import numpy as np\n",
    "from scipy import stats as st\n",
    "import matplotlib.pyplot as plt\n",
    "import matplotlib.dates as mdates"
   ]
  },
  {
   "cell_type": "markdown",
   "metadata": {},
   "source": [
    "Load Data\n",
    "---"
   ]
  },
  {
   "cell_type": "code",
   "execution_count": 4,
   "metadata": {},
   "outputs": [
    {
     "data": {
      "text/html": [
       "<div>\n",
       "<style scoped>\n",
       "    .dataframe tbody tr th:only-of-type {\n",
       "        vertical-align: middle;\n",
       "    }\n",
       "\n",
       "    .dataframe tbody tr th {\n",
       "        vertical-align: top;\n",
       "    }\n",
       "\n",
       "    .dataframe thead th {\n",
       "        text-align: right;\n",
       "    }\n",
       "</style>\n",
       "<table border=\"1\" class=\"dataframe\">\n",
       "  <thead>\n",
       "    <tr style=\"text-align: right;\">\n",
       "      <th></th>\n",
       "      <th>precipitation</th>\n",
       "    </tr>\n",
       "  </thead>\n",
       "  <tbody>\n",
       "    <tr>\n",
       "      <th>1959-01-31</th>\n",
       "      <td>0.57</td>\n",
       "    </tr>\n",
       "    <tr>\n",
       "      <th>1959-02-28</th>\n",
       "      <td>0.56</td>\n",
       "    </tr>\n",
       "    <tr>\n",
       "      <th>1959-03-31</th>\n",
       "      <td>21.32</td>\n",
       "    </tr>\n",
       "    <tr>\n",
       "      <th>1959-04-30</th>\n",
       "      <td>15.15</td>\n",
       "    </tr>\n",
       "    <tr>\n",
       "      <th>1959-05-31</th>\n",
       "      <td>19.16</td>\n",
       "    </tr>\n",
       "  </tbody>\n",
       "</table>\n",
       "</div>"
      ],
      "text/plain": [
       "            precipitation\n",
       "1959-01-31           0.57\n",
       "1959-02-28           0.56\n",
       "1959-03-31          21.32\n",
       "1959-04-30          15.15\n",
       "1959-05-31          19.16"
      ]
     },
     "execution_count": 4,
     "metadata": {},
     "output_type": "execute_result"
    }
   ],
   "source": [
    "data = pd.read_csv('new_data.csv', usecols=[2])\n",
    "data = data.set_index(\n",
    "    pd.date_range('1959','1989', freq='M')\n",
    ")\n",
    "data.head(5)"
   ]
  },
  {
   "cell_type": "markdown",
   "metadata": {},
   "source": [
    "SPI Function (self-defined)\n",
    "---"
   ]
  },
  {
   "cell_type": "code",
   "execution_count": 5,
   "metadata": {},
   "outputs": [],
   "source": [
    "#Standardized Precipitation Index Function\n",
    "def spi(ds, thresh):\n",
    "    #ds - data ; thresh - time interval / scale\n",
    "    \n",
    "    #Rolling Mean / Moving Averages\n",
    "    ds_ma = ds.rolling(thresh, center=False).mean()\n",
    "    \n",
    "    #Natural log of moving averages\n",
    "    ds_In = np.log(ds_ma)\n",
    "    ds_In[ np.isinf(ds_In) == True] = np.nan  #Change infinity to NaN\n",
    "    \n",
    "    #Overall Mean of Moving Averages\n",
    "    ds_mu = np.nanmean(ds_ma)\n",
    "    \n",
    "    #Summation of Natural log of moving averages\n",
    "    ds_sum = np.nansum(ds_In)\n",
    "        \n",
    "    #Computing essentials for gamma distribution\n",
    "    n = len(ds_In[thresh-1:])                  #size of data\n",
    "    A = np.log(ds_mu) - (ds_sum/n)             #Computing A\n",
    "    alpha = (1/(4*A))*(1+(1+((4*A)/3))**0.5)   #Computing alpha  (a)\n",
    "    beta = ds_mu/alpha                         #Computing beta (scale)\n",
    "    \n",
    "    #Gamma Distribution (CDF)\n",
    "    gamma = st.gamma.cdf(ds_ma, a=alpha, scale=beta)  \n",
    "    \n",
    "    #Standardized Precipitation Index   (Inverse of CDF)\n",
    "    norm_spi = st.norm.ppf(gamma, loc=0, scale=1)  #loc is mean and scale is standard dev.\n",
    "    \n",
    "    return ds_ma, ds_In, ds_mu, ds_sum, n, A, alpha, beta, gamma, norm_spi"
   ]
  },
  {
   "cell_type": "code",
   "execution_count": 11,
   "metadata": {},
   "outputs": [
    {
     "data": {
      "text/plain": [
       "22.333333333333332"
      ]
     },
     "execution_count": 11,
     "metadata": {},
     "output_type": "execute_result"
    }
   ],
   "source": [
    "import numpy as np\n",
    "a = [22,22,23,np.nan]\n",
    "\n",
    "np.nanmean(a)"
   ]
  },
  {
   "cell_type": "markdown",
   "metadata": {},
   "source": [
    "Perform SPI computation on Data at Varying Times\n",
    "---"
   ]
  },
  {
   "cell_type": "code",
   "execution_count": 6,
   "metadata": {},
   "outputs": [
    {
     "name": "stdout",
     "output_type": "stream",
     "text": [
      "            precipitation     spi_3\n",
      "1959-01-31           0.57       NaN\n",
      "1959-02-28           0.56       NaN\n",
      "1959-03-31          21.32  0.688233\n",
      "1959-04-30          15.15  0.892402\n",
      "1959-05-31          19.16  1.084394\n",
      "...                   ...       ...\n",
      "1988-08-31           1.60  0.869022\n",
      "1988-09-30           1.00  0.762888\n",
      "1988-10-31           1.00  0.133952\n",
      "1988-11-30           1.00  0.089817\n",
      "1988-12-31           1.00  0.089817\n",
      "\n",
      "[360 rows x 2 columns]\n",
      "            precipitation     spi_3     spi_6\n",
      "1959-01-31           0.57       NaN       NaN\n",
      "1959-02-28           0.56       NaN       NaN\n",
      "1959-03-31          21.32  0.688233       NaN\n",
      "1959-04-30          15.15  0.892402       NaN\n",
      "1959-05-31          19.16  1.084394       NaN\n",
      "...                   ...       ...       ...\n",
      "1988-08-31           1.60  0.869022  1.108980\n",
      "1988-09-30           1.00  0.762888  0.312972\n",
      "1988-10-31           1.00  0.133952  0.312972\n",
      "1988-11-30           1.00  0.089817 -0.032452\n",
      "1988-12-31           1.00  0.089817 -0.248648\n",
      "\n",
      "[360 rows x 3 columns]\n",
      "            precipitation     spi_3     spi_6     spi_9\n",
      "1959-01-31           0.57       NaN       NaN       NaN\n",
      "1959-02-28           0.56       NaN       NaN       NaN\n",
      "1959-03-31          21.32  0.688233       NaN       NaN\n",
      "1959-04-30          15.15  0.892402       NaN       NaN\n",
      "1959-05-31          19.16  1.084394       NaN       NaN\n",
      "...                   ...       ...       ...       ...\n",
      "1988-08-31           1.60  0.869022  1.108980  0.722397\n",
      "1988-09-30           1.00  0.762888  0.312972  0.722397\n",
      "1988-10-31           1.00  0.133952  0.312972  0.722397\n",
      "1988-11-30           1.00  0.089817 -0.032452  0.697276\n",
      "1988-12-31           1.00  0.089817 -0.248648 -0.325360\n",
      "\n",
      "[360 rows x 4 columns]\n",
      "            precipitation     spi_3     spi_6     spi_9    spi_12\n",
      "1959-01-31           0.57       NaN       NaN       NaN       NaN\n",
      "1959-02-28           0.56       NaN       NaN       NaN       NaN\n",
      "1959-03-31          21.32  0.688233       NaN       NaN       NaN\n",
      "1959-04-30          15.15  0.892402       NaN       NaN       NaN\n",
      "1959-05-31          19.16  1.084394       NaN       NaN       NaN\n",
      "...                   ...       ...       ...       ...       ...\n",
      "1988-08-31           1.60  0.869022  1.108980  0.722397  0.249049\n",
      "1988-09-30           1.00  0.762888  0.312972  0.722397  0.252741\n",
      "1988-10-31           1.00  0.133952  0.312972  0.722397  0.252741\n",
      "1988-11-30           1.00  0.089817 -0.032452  0.697276  0.252741\n",
      "1988-12-31           1.00  0.089817 -0.248648 -0.325360  0.252741\n",
      "\n",
      "[360 rows x 5 columns]\n",
      "            precipitation     spi_3     spi_6     spi_9    spi_12    spi_24\n",
      "1959-01-31           0.57       NaN       NaN       NaN       NaN       NaN\n",
      "1959-02-28           0.56       NaN       NaN       NaN       NaN       NaN\n",
      "1959-03-31          21.32  0.688233       NaN       NaN       NaN       NaN\n",
      "1959-04-30          15.15  0.892402       NaN       NaN       NaN       NaN\n",
      "1959-05-31          19.16  1.084394       NaN       NaN       NaN       NaN\n",
      "...                   ...       ...       ...       ...       ...       ...\n",
      "1988-08-31           1.60  0.869022  1.108980  0.722397  0.249049 -0.481301\n",
      "1988-09-30           1.00  0.762888  0.312972  0.722397  0.252741 -0.464749\n",
      "1988-10-31           1.00  0.133952  0.312972  0.722397  0.252741 -0.448261\n",
      "1988-11-30           1.00  0.089817 -0.032452  0.697276  0.252741 -0.431836\n",
      "1988-12-31           1.00  0.089817 -0.248648 -0.325360  0.252741 -0.431836\n",
      "\n",
      "[360 rows x 6 columns]\n"
     ]
    },
    {
     "name": "stderr",
     "output_type": "stream",
     "text": [
      "C:\\Users\\vision\\anaconda3\\lib\\site-packages\\pandas\\core\\arraylike.py:358: RuntimeWarning: divide by zero encountered in log\n",
      "  result = getattr(ufunc, method)(*inputs, **kwargs)\n",
      "C:\\Users\\vision\\anaconda3\\lib\\site-packages\\pandas\\core\\arraylike.py:358: RuntimeWarning: divide by zero encountered in log\n",
      "  result = getattr(ufunc, method)(*inputs, **kwargs)\n"
     ]
    }
   ],
   "source": [
    "times = [3, 6, 9, 12, 24]\n",
    "for i in times:\n",
    "    x = spi(data['precipitation'], i)\n",
    "    data['spi_'+str(i)] = x[9]\n",
    "    print(data)"
   ]
  },
  {
   "cell_type": "markdown",
   "metadata": {},
   "source": [
    "Visualization of SPI\n",
    "---"
   ]
  },
  {
   "cell_type": "code",
   "execution_count": 8,
   "metadata": {},
   "outputs": [
    {
     "name": "stderr",
     "output_type": "stream",
     "text": [
      "<ipython-input-8-cb3c8d907a08>:11: MatplotlibDeprecationWarning: Passing the minor parameter of set_ticks() positionally is deprecated since Matplotlib 3.2; the parameter will become keyword-only two minor releases later.\n",
      "  ax.set_yticks(range(-3,4), range(-3,4))\n",
      "<ipython-input-8-cb3c8d907a08>:15: MatplotlibDeprecationWarning: Passing the minor parameter of set_ticks() positionally is deprecated since Matplotlib 3.2; the parameter will become keyword-only two minor releases later.\n",
      "  ax.set_xticks([],[])\n",
      "<ipython-input-8-cb3c8d907a08>:11: MatplotlibDeprecationWarning: Passing the minor parameter of set_ticks() positionally is deprecated since Matplotlib 3.2; the parameter will become keyword-only two minor releases later.\n",
      "  ax.set_yticks(range(-3,4), range(-3,4))\n",
      "<ipython-input-8-cb3c8d907a08>:15: MatplotlibDeprecationWarning: Passing the minor parameter of set_ticks() positionally is deprecated since Matplotlib 3.2; the parameter will become keyword-only two minor releases later.\n",
      "  ax.set_xticks([],[])\n",
      "<ipython-input-8-cb3c8d907a08>:11: MatplotlibDeprecationWarning: Passing the minor parameter of set_ticks() positionally is deprecated since Matplotlib 3.2; the parameter will become keyword-only two minor releases later.\n",
      "  ax.set_yticks(range(-3,4), range(-3,4))\n",
      "<ipython-input-8-cb3c8d907a08>:15: MatplotlibDeprecationWarning: Passing the minor parameter of set_ticks() positionally is deprecated since Matplotlib 3.2; the parameter will become keyword-only two minor releases later.\n",
      "  ax.set_xticks([],[])\n",
      "<ipython-input-8-cb3c8d907a08>:11: MatplotlibDeprecationWarning: Passing the minor parameter of set_ticks() positionally is deprecated since Matplotlib 3.2; the parameter will become keyword-only two minor releases later.\n",
      "  ax.set_yticks(range(-3,4), range(-3,4))\n",
      "<ipython-input-8-cb3c8d907a08>:15: MatplotlibDeprecationWarning: Passing the minor parameter of set_ticks() positionally is deprecated since Matplotlib 3.2; the parameter will become keyword-only two minor releases later.\n",
      "  ax.set_xticks([],[])\n",
      "<ipython-input-8-cb3c8d907a08>:11: MatplotlibDeprecationWarning: Passing the minor parameter of set_ticks() positionally is deprecated since Matplotlib 3.2; the parameter will become keyword-only two minor releases later.\n",
      "  ax.set_yticks(range(-3,4), range(-3,4))\n"
     ]
    },
    {
     "data": {
      "image/png": "[encoded data removed]",
      "text/plain": [
       "<Figure size 1080x720 with 5 Axes>"
      ]
     },
     "metadata": {
      "needs_background": "light"
     },
     "output_type": "display_data"
    }
   ],
   "source": [
    "fig, axes = plt.subplots(nrows=5, figsize=(15, 10))\n",
    "plt.subplots_adjust(hspace=0.15)\n",
    "for i, ax in enumerate(axes):\n",
    "    col_scheme=np.where(data['spi_'+str(times[i])]>0, 'b','r')\n",
    "\n",
    "    ax.xaxis.set_major_formatter(mdates.DateFormatter('%Y'))\n",
    "    ax.bar(data.index, data['spi_'+str(times[i])], width=25, align='center', color=col_scheme, label='SPI '+str(times[i]))\n",
    "    ax.axhline(y=0, color='k')\n",
    "    ax.xaxis.set_major_locator(mdates.YearLocator(2))\n",
    "    ax.legend(loc='upper right')\n",
    "    ax.set_yticks(range(-3,4), range(-3,4))\n",
    "    ax.set_ylabel('SPI', fontsize=12)\n",
    "    \n",
    "    if i<len(times)-1:\n",
    "        ax.set_xticks([],[])\n",
    "plt.savefig('gg.pdf')"
   ]
  },
  {
   "cell_type": "code",
   "execution_count": 9,
   "metadata": {},
   "outputs": [
    {
     "data": {
      "text/plain": [
       "<Figure size 432x288 with 0 Axes>"
      ]
     },
     "metadata": {},
     "output_type": "display_data"
    }
   ],
   "source": [
    "plt.savefig('gg.pdf')"
   ]
  },
  {
   "cell_type": "code",
   "execution_count": null,
   "metadata": {},
   "outputs": [],
   "source": []
  }
 ],
 "metadata": {
  "kernelspec": {
   "display_name": "Python 3 (ipykernel)",
   "language": "python",
   "name": "python3"
  },
  "language_info": {
   "codemirror_mode": {
    "name": "ipython",
    "version": 3
   },
   "file_extension": ".py",
   "mimetype": "text/x-python",
   "name": "python",
   "nbconvert_exporter": "python",
   "pygments_lexer": "ipython3",
   "version": "3.9.13"
  }
 },
 "nbformat": 4,
 "nbformat_minor": 4
}
